{
 "cells": [
  {
   "cell_type": "code",
   "execution_count": null,
   "id": "83180308",
   "metadata": {},
   "outputs": [],
   "source": [
    "from py2neo import Graph, Node, Relationship\n",
    "import csv\n",
    "import os"
   ]
  },
  {
   "cell_type": "code",
   "execution_count": null,
   "id": "2d23ea33",
   "metadata": {},
   "outputs": [],
   "source": [
    "host = 'bolt://localhost:7687'\n",
    "auth = ('neo4j', 'ibdpract2')\n",
    "\n",
    "graph = Graph(host, auth=auth)"
   ]
  },
  {
   "cell_type": "code",
   "execution_count": null,
   "id": "fea65519",
   "metadata": {},
   "outputs": [],
   "source": [
    "directory = os.path.join(os.getcwd(), \"csvs\")\n",
    "\n",
    "csv_file = os.path.join(directory, \"general.csv\")\n",
    "\n",
    "with open(csv_file, \"r\") as file:\n",
    "    reader = csv.DictReader(file)\n",
    "\n",
    "    for row in reader:\n",
    "        paper_id = row['paperId']\n",
    "        title = row['title']\n",
    "\n",
    "        author_ids = row['authorId'].split(',')\n",
    "        author_names = row['authorName'].split(',')\n",
    "\n",
    "        # Crear nodo de papel (Paper)\n",
    "        paper = Node('Paper',\n",
    "                     paperId=paper_id,\n",
    "                     title=title)\n",
    "        graph.create(paper)\n",
    "\n",
    "        # Crear nodos de autores (Author) y relaciones (written) con el papel (Paper)\n",
    "        for author_id, author_name in zip(author_ids, author_names):\n",
    "            author = Node('Author', authorId=author_id, name=author_name)\n",
    "            graph.create(author)\n",
    "\n",
    "            relationship = Relationship(author, \"written\", paper)\n",
    "            graph.create(relationship)"
   ]
  },
  {
   "cell_type": "code",
   "execution_count": null,
   "id": "30ea163b",
   "metadata": {},
   "outputs": [],
   "source": [
    "author_name = input(\"Ingrese el nombre del autor: \")\n",
    "\n",
    "query = \"\"\"\n",
    "MATCH (author:Author {name: $author_name})-[:written]->(paper:Paper)<-[:written]-(coauthor:Author)\n",
    "RETURN DISTINCT paper.title, count(DISTINCT coauthor) AS num_authors\n",
    "ORDER BY num_authors ASC\n",
    "\"\"\"\n",
    "\n",
    "result = graph.run(query, author_name=author_name)\n",
    "\n",
    "for record in result:\n",
    "    print(record[\"paper.title\"], record[\"num_authors\"])"
   ]
  }
 ],
 "metadata": {
  "kernelspec": {
   "display_name": "Python 3 (ipykernel)",
   "language": "python",
   "name": "python3"
  },
  "language_info": {
   "codemirror_mode": {
    "name": "ipython",
    "version": 3
   },
   "file_extension": ".py",
   "mimetype": "text/x-python",
   "name": "python",
   "nbconvert_exporter": "python",
   "pygments_lexer": "ipython3",
   "version": "3.9.13"
  }
 },
 "nbformat": 4,
 "nbformat_minor": 5
}
