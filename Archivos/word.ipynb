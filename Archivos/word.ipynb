{
 "cells": [
  {
   "cell_type": "code",
   "execution_count": 2,
   "metadata": {},
   "outputs": [
    {
     "name": "stdout",
     "output_type": "stream",
     "text": [
      "Requirement already satisfied: pyspark in /Library/Frameworks/Python.framework/Versions/3.10/lib/python3.10/site-packages (3.4.0)\n",
      "Requirement already satisfied: py4j==0.10.9.7 in /Library/Frameworks/Python.framework/Versions/3.10/lib/python3.10/site-packages (from pyspark) (0.10.9.7)\n",
      "--- Logging error ---\n",
      "Traceback (most recent call last):\n",
      "  File \"/Library/Frameworks/Python.framework/Versions/3.10/lib/python3.10/site-packages/pip/_internal/utils/logging.py\", line 177, in emit\n",
      "    self.console.print(renderable, overflow=\"ignore\", crop=False, style=style)\n",
      "  File \"/Library/Frameworks/Python.framework/Versions/3.10/lib/python3.10/site-packages/pip/_vendor/rich/console.py\", line 1673, in print\n",
      "    extend(render(renderable, render_options))\n",
      "  File \"/Library/Frameworks/Python.framework/Versions/3.10/lib/python3.10/site-packages/pip/_vendor/rich/console.py\", line 1305, in render\n",
      "    for render_output in iter_render:\n",
      "  File \"/Library/Frameworks/Python.framework/Versions/3.10/lib/python3.10/site-packages/pip/_internal/utils/logging.py\", line 134, in __rich_console__\n",
      "    for line in lines:\n",
      "  File \"/Library/Frameworks/Python.framework/Versions/3.10/lib/python3.10/site-packages/pip/_vendor/rich/segment.py\", line 249, in split_lines\n",
      "    for segment in segments:\n",
      "  File \"/Library/Frameworks/Python.framework/Versions/3.10/lib/python3.10/site-packages/pip/_vendor/rich/console.py\", line 1283, in render\n",
      "    renderable = rich_cast(renderable)\n",
      "  File \"/Library/Frameworks/Python.framework/Versions/3.10/lib/python3.10/site-packages/pip/_vendor/rich/protocol.py\", line 36, in rich_cast\n",
      "    renderable = cast_method()\n",
      "  File \"/Library/Frameworks/Python.framework/Versions/3.10/lib/python3.10/site-packages/pip/_internal/self_outdated_check.py\", line 130, in __rich__\n",
      "    pip_cmd = get_best_invocation_for_this_pip()\n",
      "  File \"/Library/Frameworks/Python.framework/Versions/3.10/lib/python3.10/site-packages/pip/_internal/utils/entrypoints.py\", line 58, in get_best_invocation_for_this_pip\n",
      "    if found_executable and os.path.samefile(\n",
      "  File \"/Library/Frameworks/Python.framework/Versions/3.10/lib/python3.10/genericpath.py\", line 101, in samefile\n",
      "    s2 = os.stat(f2)\n",
      "FileNotFoundError: [Errno 2] No such file or directory: '/Library/Frameworks/Python.framework/Versions/3.10/bin/pip'\n",
      "Call stack:\n",
      "  File \"/usr/local/bin/pip3.10\", line 8, in <module>\n",
      "    sys.exit(main())\n",
      "  File \"/Library/Frameworks/Python.framework/Versions/3.10/lib/python3.10/site-packages/pip/_internal/cli/main.py\", line 70, in main\n",
      "    return command.main(cmd_args)\n",
      "  File \"/Library/Frameworks/Python.framework/Versions/3.10/lib/python3.10/site-packages/pip/_internal/cli/base_command.py\", line 101, in main\n",
      "    return self._main(args)\n",
      "  File \"/Library/Frameworks/Python.framework/Versions/3.10/lib/python3.10/site-packages/pip/_internal/cli/base_command.py\", line 223, in _main\n",
      "    self.handle_pip_version_check(options)\n",
      "  File \"/Library/Frameworks/Python.framework/Versions/3.10/lib/python3.10/site-packages/pip/_internal/cli/req_command.py\", line 190, in handle_pip_version_check\n",
      "    pip_self_version_check(session, options)\n",
      "  File \"/Library/Frameworks/Python.framework/Versions/3.10/lib/python3.10/site-packages/pip/_internal/self_outdated_check.py\", line 236, in pip_self_version_check\n",
      "    logger.warning(\"[present-rich] %s\", upgrade_prompt)\n",
      "  File \"/Library/Frameworks/Python.framework/Versions/3.10/lib/python3.10/logging/__init__.py\", line 1489, in warning\n",
      "    self._log(WARNING, msg, args, **kwargs)\n",
      "  File \"/Library/Frameworks/Python.framework/Versions/3.10/lib/python3.10/logging/__init__.py\", line 1624, in _log\n",
      "    self.handle(record)\n",
      "  File \"/Library/Frameworks/Python.framework/Versions/3.10/lib/python3.10/logging/__init__.py\", line 1634, in handle\n",
      "    self.callHandlers(record)\n",
      "  File \"/Library/Frameworks/Python.framework/Versions/3.10/lib/python3.10/logging/__init__.py\", line 1696, in callHandlers\n",
      "    hdlr.handle(record)\n",
      "  File \"/Library/Frameworks/Python.framework/Versions/3.10/lib/python3.10/logging/__init__.py\", line 968, in handle\n",
      "    self.emit(record)\n",
      "  File \"/Library/Frameworks/Python.framework/Versions/3.10/lib/python3.10/site-packages/pip/_internal/utils/logging.py\", line 179, in emit\n",
      "    self.handleError(record)\n",
      "Message: '[present-rich] %s'\n",
      "Arguments: (UpgradePrompt(old='22.2.2', new='23.1.2'),)\n"
     ]
    }
   ],
   "source": [
    "!pip3.10 install pyspark\n",
    "!export PYSPARK_PYTHON=python3.10\n",
    "!export PYSPARK_DRIVER_PYTHON=python3.10"
   ]
  },
  {
   "cell_type": "code",
   "execution_count": 1,
   "metadata": {},
   "outputs": [
    {
     "name": "stderr",
     "output_type": "stream",
     "text": [
      "Setting default log level to \"WARN\".\n",
      "To adjust logging level use sc.setLogLevel(newLevel). For SparkR, use setLogLevel(newLevel).\n",
      "23/05/18 21:31:44 WARN NativeCodeLoader: Unable to load native-hadoop library for your platform... using builtin-java classes where applicable\n",
      "23/05/18 21:31:44 WARN Utils: Service 'SparkUI' could not bind on port 4040. Attempting port 4041.\n"
     ]
    },
    {
     "name": "stdout",
     "output_type": "stream",
     "text": [
      "+------+-----+\n",
      "|length|count|\n",
      "+------+-----+\n",
      "|     3|   97|\n",
      "+------+-----+\n",
      "\n"
     ]
    },
    {
     "name": "stderr",
     "output_type": "stream",
     "text": [
      "23/05/18 21:31:57 WARN GarbageCollectionMetrics: To enable non-built-in garbage collector(s) List(G1 Concurrent GC), users should configure it(them) to spark.eventLog.gcMetrics.youngGenerationGarbageCollectors or spark.eventLog.gcMetrics.oldGenerationGarbageCollectors\n"
     ]
    }
   ],
   "source": [
    "from pyspark.sql import SparkSession\n",
    "from pyspark.sql.functions import explode, length, split\n",
    "import os\n",
    "import shutil\n",
    "\n",
    "# Crear la sesión Spark\n",
    "spark = SparkSession.builder.getOrCreate()\n",
    "\n",
    "# Leer el archivo CSV y seleccionar el campo abstract y convertirlo en un RDD\n",
    "df = spark.read.csv(\"general.csv\", header=True)\n",
    "abstract_df = df.select(\"abstract\")\n",
    "\n",
    "# Extraer las palabras de la columna abstract\n",
    "words_df = abstract_df.withColumn(\"word\", explode(split(abstract_df[\"abstract\"], \" \")))\n",
    "\n",
    "# Filtramos las palabras con longuitud igual a 3\n",
    "filtered_words_df = words_df.filter(length(\"word\") == 3)\n",
    "\n",
    "# Agrupamos las palabras por su longuitud\n",
    "word_counts = filtered_words_df.groupBy(length(\"word\")).count()\n",
    "\n",
    "# Convertimos a df, ordenado por la columna de longuitud\n",
    "df = word_counts.toDF('length', 'count')\n",
    "\n",
    "df.show()"
   ]
  },
  {
   "cell_type": "code",
   "execution_count": 23,
   "metadata": {},
   "outputs": [
    {
     "data": {
      "text/plain": [
       "'./complex/Count.csv'"
      ]
     },
     "execution_count": 23,
     "metadata": {},
     "output_type": "execute_result"
    }
   ],
   "source": [
    "# Devuelve csv con longitud y conteo de palabras ordenada por la longitud\n",
    "'''\n",
    "from pyspark.sql import SparkSession\n",
    "from pyspark.sql.functions import explode, length, split\n",
    "import os\n",
    "import shutil\n",
    "\n",
    "# Crear la sesión Spark\n",
    "spark = SparkSession.builder.getOrCreate()\n",
    "\n",
    "# Leer el archivo CSV y seleccionar el campo abstract y convertirlo en un RDD\n",
    "df = spark.read.csv(\"general.csv\", header=True)\n",
    "abstract_df = df.select(\"abstract\")\n",
    "\n",
    "# Extraer las palabras de la columna abstract\n",
    "words_df = abstract_df.withColumn(\"word\", explode(split(abstract_df[\"abstract\"], \" \")))\n",
    "\n",
    "# Filtramos las palabras con longuitud mayor a 20\n",
    "filtered_words_df = words_df.filter(length(\"word\") <= 20)\n",
    "\n",
    "# Agrupamos las palabras por su longuitud\n",
    "word_counts = filtered_words_df.groupBy(length(\"word\")).count()\n",
    "\n",
    "# Convertimos a df, ordenado por la columna de longuitud\n",
    "df = word_counts.toDF('length', 'count')\n",
    "df = df.orderBy(df.columns[0])\n",
    "\n",
    "# Exportamos a csv\n",
    "df.write.csv('Count', header=True)\n",
    "\n",
    "# Cambiamos el nombre del csv generado a \"Count.csv\" y lo extraemos del folder\n",
    "for file_name in os.listdir('Count'):\n",
    "    if file_name.endswith('.csv'):\n",
    "        current_path = os.path.join('Count', file_name)\n",
    "        new_path = os.path.join('Count', 'Count.csv')\n",
    "        os.rename(current_path, new_path)\n",
    "        break\n",
    "else:\n",
    "    print(\"No CSV file found in the 'Count' folder.\")\n",
    "\n",
    "# Extraemos el csv y eliminamos el folder\n",
    "folder = os.path.abspath('Count')\n",
    "file_path = os.path.join(folder, 'Count.csv')\n",
    "new_path = os.path.join(os.path.dirname(folder), 'Count.csv')\n",
    "shutil.move(file_path, new_path)\n",
    "shutil.rmtree('Count')\n",
    "\n",
    "# Crear el folder 'complex' (si no existe) y metemos el csv dentro.\n",
    "if not os.path.exists('./complex'):\n",
    "     os.makedirs('./complex')\n",
    "shutil.move('Count.csv', './complex/Count.csv')\n",
    "'''"
   ]
  },
  {
   "cell_type": "code",
   "execution_count": null,
   "metadata": {},
   "outputs": [],
   "source": []
  }
 ],
 "metadata": {
  "kernelspec": {
   "display_name": "Python 3",
   "language": "python",
   "name": "python3"
  },
  "language_info": {
   "codemirror_mode": {
    "name": "ipython",
    "version": 3
   },
   "file_extension": ".py",
   "mimetype": "text/x-python",
   "name": "python",
   "nbconvert_exporter": "python",
   "pygments_lexer": "ipython3",
   "version": "3.10.7"
  },
  "orig_nbformat": 4,
  "vscode": {
   "interpreter": {
    "hash": "aee8b7b246df8f9039afb4144a1f6fd8d2ca17a180786b69acc140d282b71a49"
   }
  }
 },
 "nbformat": 4,
 "nbformat_minor": 2
}
