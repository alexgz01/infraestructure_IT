{
 "cells": [
  {
   "cell_type": "code",
   "execution_count": 4,
   "id": "3a14355a",
   "metadata": {},
   "outputs": [],
   "source": [
    "import pandas as pd\n",
    "import os\n",
    "import requests\n",
    "\n",
    "def doi_to_csv():\n",
    "    # Lee el archivo corpus.txt como una serie\n",
    "    df_dois = pd.read_csv(\"./publications/corpus.txt\", header=None, names=[\"DOIs\"])\n",
    "    dois = df_dois[\"DOIs\"].tolist()\n",
    "\n",
    "    # Creamos un DataFrame vacío\n",
    "    documents = pd.DataFrame(columns=['file_name', 'title', 'publication_date'])\n",
    "\n",
    "    # Creamos un DataFrame vacío\n",
    "    df = pd.DataFrame(columns=['paperId', 'title', 'abstract', 'year', 'publicationDate', 'authorId', 'authorName'])\n",
    "\n",
    "    authors_list = []  # Lista de listas de autores\n",
    "\n",
    "    for doi in dois:\n",
    "        r = requests.get(f'https://api.semanticscholar.org/v1/paper/{doi}')\n",
    "        if r.status_code == 200:\n",
    "            data = r.json()\n",
    "\n",
    "            author_ids = [author.get('authorId', '') for author in data.get('authors', [])]\n",
    "            author_names = [author.get('name', '') for author in data.get('authors', [])]\n",
    "\n",
    "            authors_list.append(author_names)\n",
    "\n",
    "            author_ids = ','.join(author_ids)\n",
    "            author_names = ','.join(author_names)\n",
    "\n",
    "            document_info = [data.get('paperId', ''), data.get('title', ''), data.get('publicationDate', '')]\n",
    "            documents.loc[len(documents)] = document_info\n",
    "\n",
    "            author_info = [data.get('paperId', ''), data.get('title', ''), data.get('abstract', ''),\n",
    "                           data.get('year', ''), data.get('publicationDate', ''), author_ids, author_names]\n",
    "            df.loc[len(df)] = author_info\n",
    "\n",
    "    if not os.path.exists('./csvs'):\n",
    "        os.makedirs('./csvs')\n",
    "\n",
    "    df.to_csv('./csvs/general.csv', index=False)\n",
    "\n",
    "    authors_list = [item for sublist in authors_list for item in sublist]\n",
    "\n",
    "    authors_count = {i: authors_list.count(i) for i in authors_list}\n",
    "\n",
    "    authors = pd.DataFrame(list(authors_count.items()), columns=['author', 'publications'])\n",
    "\n",
    "    documents.to_csv('./csvs/documents.csv', index=False)\n",
    "    authors.to_csv('./csvs/authors.csv', index=False)"
   ]
  },
  {
   "cell_type": "code",
   "execution_count": 5,
   "id": "8782f67e",
   "metadata": {},
   "outputs": [],
   "source": [
    "doi_to_csv()"
   ]
  }
 ],
 "metadata": {
  "kernelspec": {
   "display_name": "Python 3 (ipykernel)",
   "language": "python",
   "name": "python3"
  },
  "language_info": {
   "codemirror_mode": {
    "name": "ipython",
    "version": 3
   },
   "file_extension": ".py",
   "mimetype": "text/x-python",
   "name": "python",
   "nbconvert_exporter": "python",
   "pygments_lexer": "ipython3",
   "version": "3.9.13"
  }
 },
 "nbformat": 4,
 "nbformat_minor": 5
}
