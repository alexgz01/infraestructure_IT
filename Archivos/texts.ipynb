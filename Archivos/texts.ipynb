{
 "cells": [
  {
   "cell_type": "code",
   "execution_count": 42,
   "metadata": {},
   "outputs": [
    {
     "name": "stdout",
     "output_type": "stream",
     "text": [
      "                                          paragraphs   \n",
      "0  this paper introduces a new multi-strain epide...  \\\n",
      "1  we describe a deployed scalable system for org...   \n",
      "2  big data is data sets that are so voluminous a...   \n",
      "3  today, the science of artificial intelligence ...   \n",
      "\n",
      "                                               title  length  word_frequency  \n",
      "0  Reinfection and low cross-immunity as drivers ...     154              18  \n",
      "1  Construction of the Literature Graph in Semant...      93               4  \n",
      "2         Overview of Big Data and Its Visualization     157               9  \n",
      "3  Comparison between Expert Systems, Machine Lea...      99              11  \n"
     ]
    }
   ],
   "source": [
    "import pandas as pd\n",
    "\n",
    "word = 'the'\n",
    "\n",
    "# Lee el csv y lo carga como dataframe\n",
    "df = pd.read_csv('./csvs/general.csv')\n",
    "\n",
    "# Convierte el texto en lowercase\n",
    "df['abstract'] = df['abstract'].str.lower()\n",
    "\n",
    "# Separa los parafos\n",
    "df['abstract_paragraphs'] = df['abstract'].str.split('\\n')\n",
    "\n",
    "# Filtramos los parrafos que no contengan la palabra\n",
    "df = df[df['abstract_paragraphs'].apply(lambda paragraphs: any(word in p for p in paragraphs))]\n",
    "\n",
    "# Nuevo dataframe con los parrafos filtrados y columna de titulo\n",
    "new_df = pd.DataFrame({'paragraphs': df['abstract_paragraphs'].explode(), 'title': df['title']})\n",
    "\n",
    "# Número de palabras en el parrafo\n",
    "new_df['length'] = new_df['paragraphs'].str.split().apply(len)\n",
    "\n",
    "# Conteo de veces que aparece la palabra en el parrafo\n",
    "new_df['word_frequency'] = new_df['paragraphs'].str.count(word)\n",
    "\n",
    "# Resultado\n",
    "print(new_df)\n"
   ]
  }
 ],
 "metadata": {
  "kernelspec": {
   "display_name": "Python 3 (ipykernel)",
   "language": "python",
   "name": "python3"
  },
  "language_info": {
   "codemirror_mode": {
    "name": "ipython",
    "version": 3
   },
   "file_extension": ".py",
   "mimetype": "text/x-python",
   "name": "python",
   "nbconvert_exporter": "python",
   "pygments_lexer": "ipython3",
   "version": "3.9.13"
  },
  "vscode": {
   "interpreter": {
    "hash": "aee8b7b246df8f9039afb4144a1f6fd8d2ca17a180786b69acc140d282b71a49"
   }
  }
 },
 "nbformat": 4,
 "nbformat_minor": 2
}
