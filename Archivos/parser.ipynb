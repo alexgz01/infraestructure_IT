{
 "cells": [
  {
   "cell_type": "code",
   "execution_count": 9,
   "id": "3a14355a",
   "metadata": {},
   "outputs": [],
   "source": [
    "import pandas as pd\n",
    "import os\n",
    "import requests\n",
    "\n",
    "def doi_to_csv():\n",
    "    # Lee el archivo corpus.txt como una serie\n",
    "    df_dois = pd.read_csv(\"corpus.txt\", header=None, names=[\"DOIs\"])\n",
    "    dois = df_dois[\"DOIs\"].tolist()\n",
    "\n",
    "    documents_data = []\n",
    "    authors_list = []\n",
    "    author_columns = ['paperId', 'title', 'abstract', 'year', 'publicationDate', 'authorId', 'authorName']\n",
    "    df_authors = pd.DataFrame(columns=author_columns)  # Inicializar el DataFrame df_authors\n",
    "\n",
    "    for doi in dois:\n",
    "        r = requests.get(f'https://api.semanticscholar.org/v1/paper/{doi}')\n",
    "        if r.status_code == 200:\n",
    "            data = r.json()\n",
    "\n",
    "            document_info = [data.get('paperId', ''), data.get('title', ''), data.get('year', '')]\n",
    "            documents_data.append(document_info)\n",
    "\n",
    "            authors = data.get('authors', [])\n",
    "            author_ids = [author.get('authorId', '') for author in authors]\n",
    "            author_names = [author.get('name', '') for author in authors]\n",
    "            authors_list.extend(author_names)\n",
    "\n",
    "            author_info = [data.get('paperId', ''), data.get('title', ''), data.get('abstract', ''),\n",
    "                           data.get('year', ''), data.get('publicationDate', ''), ','.join(author_ids),\n",
    "                           ','.join(author_names)]\n",
    "            df_authors.loc[len(df_authors)] = author_info\n",
    "\n",
    "    if not os.path.exists('./csv'):\n",
    "        os.makedirs('./csv')\n",
    "\n",
    "    df_documents = pd.DataFrame(documents_data, columns=['file_name', 'title', 'publication_date'])\n",
    "\n",
    "    df_documents.to_csv('./csv/documents.csv', index=False)\n",
    "    df_authors.to_csv('./csv/authors.csv', index=False)\n"
   ]
  }
 ],
 "metadata": {
  "kernelspec": {
   "display_name": "Python 3 (ipykernel)",
   "language": "python",
   "name": "python3"
  },
  "language_info": {
   "codemirror_mode": {
    "name": "ipython",
    "version": 3
   },
   "file_extension": ".py",
   "mimetype": "text/x-python",
   "name": "python",
   "nbconvert_exporter": "python",
   "pygments_lexer": "ipython3",
   "version": "3.9.13"
  }
 },
 "nbformat": 4,
 "nbformat_minor": 5
}
